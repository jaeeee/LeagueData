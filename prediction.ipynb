{
 "cells": [
  {
   "cell_type": "markdown",
   "metadata": {
    "colab_type": "text",
    "id": "__1JBcfGnOHj"
   },
   "source": [
    "# Using Linear regression to predict how many points the future rank 1 player will have"
   ]
  },
  {
   "cell_type": "code",
   "execution_count": 158,
   "metadata": {
    "colab": {},
    "colab_type": "code",
    "id": "vX2M_vUAnOHr",
    "outputId": "9e1819ee-c8d0-441c-f9cc-5e1bc8558716"
   },
   "outputs": [],
   "source": [
    "import pandas as pd\n",
    "import numpy as np\n",
    "from sklearn.linear_model import LinearRegression\n"
   ]
  },
  {
   "cell_type": "code",
   "execution_count": 159,
   "metadata": {},
   "outputs": [
    {
     "data": {
      "text/html": [
       "<div>\n",
       "<style scoped>\n",
       "    .dataframe tbody tr th:only-of-type {\n",
       "        vertical-align: middle;\n",
       "    }\n",
       "\n",
       "    .dataframe tbody tr th {\n",
       "        vertical-align: top;\n",
       "    }\n",
       "\n",
       "    .dataframe thead th {\n",
       "        text-align: right;\n",
       "    }\n",
       "</style>\n",
       "<table border=\"1\" class=\"dataframe\">\n",
       "  <thead>\n",
       "    <tr style=\"text-align: right;\">\n",
       "      <th></th>\n",
       "      <th>Season</th>\n",
       "      <th>Player</th>\n",
       "      <th>LP</th>\n",
       "      <th>Role</th>\n",
       "      <th>Pro Player ?</th>\n",
       "    </tr>\n",
       "  </thead>\n",
       "  <tbody>\n",
       "    <tr>\n",
       "      <th>0</th>\n",
       "      <td>4</td>\n",
       "      <td>Turtle the Cat</td>\n",
       "      <td>1306</td>\n",
       "      <td>ADC</td>\n",
       "      <td>Yes</td>\n",
       "    </tr>\n",
       "    <tr>\n",
       "      <th>1</th>\n",
       "      <td>5</td>\n",
       "      <td>KEITHMKBRIEKF</td>\n",
       "      <td>1371</td>\n",
       "      <td>ADC</td>\n",
       "      <td>Yes</td>\n",
       "    </tr>\n",
       "    <tr>\n",
       "      <th>2</th>\n",
       "      <td>6</td>\n",
       "      <td>tarzaned</td>\n",
       "      <td>1244</td>\n",
       "      <td>Jungle</td>\n",
       "      <td>No</td>\n",
       "    </tr>\n",
       "    <tr>\n",
       "      <th>3</th>\n",
       "      <td>7</td>\n",
       "      <td>Wiggily</td>\n",
       "      <td>1235</td>\n",
       "      <td>Jungle</td>\n",
       "      <td>Yes</td>\n",
       "    </tr>\n",
       "    <tr>\n",
       "      <th>4</th>\n",
       "      <td>8</td>\n",
       "      <td>TSM Grig</td>\n",
       "      <td>1333</td>\n",
       "      <td>Jungle</td>\n",
       "      <td>Yes</td>\n",
       "    </tr>\n",
       "    <tr>\n",
       "      <th>5</th>\n",
       "      <td>9</td>\n",
       "      <td>Santorin</td>\n",
       "      <td>1579</td>\n",
       "      <td>Jungle</td>\n",
       "      <td>Yes</td>\n",
       "    </tr>\n",
       "    <tr>\n",
       "      <th>6</th>\n",
       "      <td>10</td>\n",
       "      <td>C9 Zven</td>\n",
       "      <td>1557</td>\n",
       "      <td>ADC</td>\n",
       "      <td>Yes</td>\n",
       "    </tr>\n",
       "  </tbody>\n",
       "</table>\n",
       "</div>"
      ],
      "text/plain": [
       "   Season          Player    LP    Role Pro Player ?\n",
       "0       4  Turtle the Cat  1306     ADC          Yes\n",
       "1       5   KEITHMKBRIEKF  1371     ADC          Yes\n",
       "2       6        tarzaned  1244  Jungle           No\n",
       "3       7         Wiggily  1235  Jungle          Yes\n",
       "4       8        TSM Grig  1333  Jungle          Yes\n",
       "5       9        Santorin  1579  Jungle          Yes\n",
       "6      10         C9 Zven  1557     ADC          Yes"
      ]
     },
     "execution_count": 159,
     "metadata": {},
     "output_type": "execute_result"
    }
   ],
   "source": [
    "df = pd.read_csv(\"rank1.csv\")\n",
    "df"
   ]
  },
  {
   "cell_type": "code",
   "execution_count": 163,
   "metadata": {},
   "outputs": [
    {
     "data": {
      "text/plain": [
       "<matplotlib.axes._subplots.AxesSubplot at 0x7f01ecd7dd68>"
      ]
     },
     "execution_count": 163,
     "metadata": {},
     "output_type": "execute_result"
    },
    {
     "data": {
      "image/png": "[encoded data removed]",
      "text/plain": [
       "<Figure size 432x288 with 1 Axes>"
      ]
     },
     "metadata": {
      "needs_background": "light"
     },
     "output_type": "display_data"
    }
   ],
   "source": [
    "X = np.array(df[['Season']], dtype = float)\n",
    "y = np.array(df['LP'], dtype = float)\n",
    "\n",
    "model = LinearRegression()\n",
    "model.fit(X = X, y = y)\n",
    "\n",
    "X_new = pd.DataFrame()\n",
    "# create a sequence of 200 evenly spaced numbers from 334 to 5642\n",
    "X_new['Season'] = np.linspace(3, 13, num = 100)\n",
    "\n",
    "y_pred = pd.Series(model.predict(X_new), index = X_new['Season'])\n",
    "\n",
    "# plot the data, then the model\n",
    "df.plot.scatter(x = 'Season', y = 'LP')\n",
    "y_pred.plot.line()"
   ]
  },
  {
   "cell_type": "markdown",
   "metadata": {},
   "source": [
    "As shown in the linear regression plot above, the amount of Leaugue Points the rank 1 player on the North American server is increasing as years go by. It is projected by our model that in Season 12, the rank 1 player will have over 1600 points!"
   ]
  },
  {
   "cell_type": "code",
   "execution_count": 210,
   "metadata": {},
   "outputs": [
    {
     "name": "stdout",
     "output_type": "stream",
     "text": [
      "0       ADC\n",
      "1       ADC\n",
      "2    Jungle\n",
      "3    Jungle\n",
      "4    Jungle\n",
      "5    Jungle\n",
      "6       ADC\n",
      "Name: Role, dtype: object\n"
     ]
    },
    {
     "data": {
      "image/png": "[encoded data removed]",
      "text/plain": [
       "<Figure size 720x720 with 1 Axes>"
      ]
     },
     "metadata": {},
     "output_type": "display_data"
    }
   ],
   "source": [
    "x = df[df[\"Role\"] == \"ADC\"]\n",
    "y = df[df[\"Role\"] == \"JUNGLE\"]\n",
    "\n",
    "a = df[\"Role\"].value_counts()\n",
    "\n",
    "a.plot(kind = 'pie', subplots = True, figsize = (10,10))\n",
    "\n",
    "b = df[\"Role\"]\n",
    "print(b)"
   ]
  },
  {
   "cell_type": "markdown",
   "metadata": {},
   "source": [
    "It is interesting to see that for the past 6 years, the only two roles that have shown up in the rank 1 position are Jungle and ADC. Although Jungle has the most appearances, the current rank 1 player is an ADC player. This data can be used to see how much impact a role can have on the outcome of the game."
   ]
  },
  {
   "cell_type": "code",
   "execution_count": 212,
   "metadata": {},
   "outputs": [],
   "source": [
    "#x = pd.Series(df[\"Role\"]).value_counts()\n",
    "#y = pd.Series(df[\"Season\"])\n",
    "#y.plot.line(x)"
   ]
  },
  {
   "cell_type": "code",
   "execution_count": 211,
   "metadata": {},
   "outputs": [
    {
     "data": {
      "text/plain": [
       "<matplotlib.axes._subplots.AxesSubplot at 0x7f01e858b2b0>"
      ]
     },
     "execution_count": 211,
     "metadata": {},
     "output_type": "execute_result"
    },
    {
     "data": {
      "image/png": "[encoded data removed]",
      "text/plain": [
       "<Figure size 432x288 with 1 Axes>"
      ]
     },
     "metadata": {
      "needs_background": "light"
     },
     "output_type": "display_data"
    }
   ],
   "source": []
  },
  {
   "cell_type": "code",
   "execution_count": null,
   "metadata": {},
   "outputs": [],
   "source": []
  }
 ],
 "metadata": {
  "colab": {
   "name": "1A. Distribution of First Digits.ipynb",
   "provenance": []
  },
  "kernelspec": {
   "display_name": "Python 3",
   "language": "python",
   "name": "python3"
  },
  "language_info": {
   "codemirror_mode": {
    "name": "ipython",
    "version": 3
   },
   "file_extension": ".py",
   "mimetype": "text/x-python",
   "name": "python",
   "nbconvert_exporter": "python",
   "pygments_lexer": "ipython3",
   "version": "3.6.8"
  }
 },
 "nbformat": 4,
 "nbformat_minor": 4
}
