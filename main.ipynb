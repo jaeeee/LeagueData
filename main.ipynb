{
 "cells": [
  {
   "cell_type": "code",
   "execution_count": 1,
   "metadata": {},
   "outputs": [
    {
     "name": "stdout",
     "output_type": "stream",
     "text": [
      "Choose an option: \n",
      "1 - Search a player's ranked stats (NA only for now)\n",
      "2 - Display a list of players in any rank\n",
      "3 - Grab a list of all players in any region and save to csv file\n",
      "0 - Quit\n"
     ]
    },
    {
     "name": "stdin",
     "output_type": "stream",
     "text": [
      "option:  2\n"
     ]
    },
    {
     "name": "stdout",
     "output_type": "stream",
     "text": [
      "\n",
      "Let's check players info from any specific rank\n"
     ]
    },
    {
     "name": "stdin",
     "output_type": "stream",
     "text": [
      "Enter the region (ONLY BR1, EUN1, EUW1, JP1, KR, LA1, LA2, NA1, OC1, RU, TR1 are supported):  NA1\n",
      "Enter the rank (IRON, BRONZE, SILVER, GOLD, PLATINUM, DIAMOND, MASTER, GRANDMASTER, CHALLENGER):  CHALLENGER\n"
     ]
    },
    {
     "name": "stdout",
     "output_type": "stream",
     "text": [
      "Here is a current list of players in CHALLENGER I\n",
      "     summonerName        tier rank  leaguePoints Winrate\n",
      "1         C9 Zven  CHALLENGER    I          1560     57%\n",
      "2       Josedeodo  CHALLENGER    I          1350     59%\n",
      "3     qpalzmwoiaj  CHALLENGER    I          1342     53%\n",
      "4       C9 ZVENNN  CHALLENGER    I          1308     62%\n",
      "5           41205  CHALLENGER    I          1301     54%\n",
      "..            ...         ...  ...           ...     ...\n",
      "296      kníghtzz  CHALLENGER    I           449     56%\n",
      "297        Meteos  CHALLENGER    I           448     51%\n",
      "298     IWU Fizzi  CHALLENGER    I           443     53%\n",
      "299        im avi  CHALLENGER    I           438     54%\n",
      "300  GropedByGods  CHALLENGER    I           423     55%\n",
      "\n",
      "[300 rows x 5 columns]\n"
     ]
    },
    {
     "name": "stdin",
     "output_type": "stream",
     "text": [
      "Want to search for someone? Enter the name here (!q to quit or !csv to save):  !q\n"
     ]
    },
    {
     "ename": "SystemExit",
     "evalue": "",
     "output_type": "error",
     "traceback": [
      "An exception has occurred, use %tb to see the full traceback.\n",
      "\u001b[0;31mSystemExit\u001b[0m\n"
     ]
    },
    {
     "name": "stderr",
     "output_type": "stream",
     "text": [
      "/usr/local/lib/python3.6/site-packages/IPython/core/interactiveshell.py:3339: UserWarning: To exit: use 'exit', 'quit', or Ctrl-D.\n",
      "  warn(\"To exit: use 'exit', 'quit', or Ctrl-D.\", stacklevel=1)\n"
     ]
    }
   ],
   "source": [
    "#from riotwatcher import LolWatcher, ApiError\n",
    "import pandas as pd\n",
    "import requests\n",
    "import matplotlib.pyplot as plt\n",
    "import json\n",
    "import time\n",
    "import sys\n",
    "\n",
    "APIKey = 'RGAPI-1d209705-0cba-40e2-aae6-018ae520cd3a'\n",
    "region = 'na1'\n",
    "rank = 'b'\n",
    "division = 'c'\n",
    "displace = 1\n",
    "option = '-1'\n",
    "username = ''\n",
    "\n",
    "def getNextInfo(region, rank, division, page, APIKey):\n",
    "    url = \"https://\" + region + \".api.riotgames.com/lol/league/v4/entries/RANKED_SOLO_5x5/\" + rank + \"/\" + division + \"?page=\" + str(page) + \"&api_key=\" + APIKey\n",
    "    response = requests.get(url)\n",
    "    return response.json()\n",
    "\n",
    "def getNextUrl(region, rank, division, page, APIKey):\n",
    "    return \"https://\" + region + \".api.riotgames.com/lol/league/v4/entries/RANKED_SOLO_5x5/\" + rank + \"/\" + division + \"?page=\" + str(page) + \"&api_key=\" + APIKey\n",
    "\n",
    "def getUrl(region, rank, division, APIKey):\n",
    "    global displace\n",
    "    if rank == 'MASTER':\n",
    "        temp = \"https://\" + region + \".api.riotgames.com/lol/league/v4/masterleagues/by-queue/RANKED_SOLO_5x5?api_key=\" + APIKey\n",
    "        displace = 1001\n",
    "        return temp\n",
    "    elif rank == 'GRANDMASTER':\n",
    "        temp = \"https://\" + region + \".api.riotgames.com/lol/league/v4/grandmasterleagues/by-queue/RANKED_SOLO_5x5?api_key=\" + APIKey\n",
    "        displace = 301\n",
    "        return temp\n",
    "    elif rank == 'CHALLENGER':\n",
    "        temp = \"https://\" + region + \".api.riotgames.com/lol/league/v4/challengerleagues/by-queue/RANKED_SOLO_5x5?api_key=\" + APIKey\n",
    "        displace = 1\n",
    "        return temp\n",
    "    else:\n",
    "        temp = \"https://\" + region + \".api.riotgames.com/lol/league/v4/entries/RANKED_SOLO_5x5/\" + rank + \"/\" + division + \"?page=1&api_key=\" + APIKey\n",
    "        return temp\n",
    "\n",
    "def getPlayerInput():\n",
    "    print(\"\\nLet's check players info from any specific rank\")\n",
    "    global region, rank, division\n",
    "    region = (str)(input('Enter the region (ONLY BR1, EUN1, EUW1, JP1, KR, LA1, LA2, NA1, OC1, RU, TR1 are supported): '))\n",
    "    #region = 'NA1'\n",
    "    rank = (str)(input('Enter the rank (IRON, BRONZE, SILVER, GOLD, PLATINUM, DIAMOND, MASTER, GRANDMASTER, CHALLENGER): '))\n",
    "    #rank = 'MASTER'\n",
    "    if (rank == 'MASTER' or rank == 'GRANDMASTER' or rank == 'CHALLENGER'):\n",
    "        division = 'I' #These ranks only have one division, so the division is defaulted to I\n",
    "        return\n",
    "    division = (str)(input('Enter the division (I, II, III, IV): '))\n",
    "    #division = 'I'\n",
    "    \n",
    "def getUserOption():\n",
    "    global option\n",
    "    print('Choose an option: ')\n",
    "    print('1 - Search a player\\'s ranked stats (NA only for now)')\n",
    "    print('2 - Display a list of players in any rank')\n",
    "    print('3 - Grab a list of all players in any region and save to csv file')\n",
    "    print('0 - Quit')\n",
    "    option = (str)(input('option: '))\n",
    "\n",
    "def getPlayerRankedStats(df): #Only NA1 region for now\n",
    "    #global region\n",
    "    #region = (str)(input('Enter the region (ONLY BR1, EUN1, EUW1, JP1, KR, LA1, LA2, NA1, OC1, RU, TR1 are supported): '))\n",
    "    username = ''\n",
    "    while username != '!q':\n",
    "        username = (str)(input('Enter the name here (!q to quit): '))\n",
    "        if username == '!q':\n",
    "            sys.exit()\n",
    "        df['Winrate'] = df.apply(lambda row: '{0:.0%}'.format((row.wins / (row.wins + row.losses))), axis=1)\n",
    "        print(df.loc[df['summonerName'].str.lower()==username.lower()][['summonerName','tier','rank','leaguePoints','Winrate']])\n",
    "    return\n",
    "\n",
    "def getPlayerBase(region):\n",
    "    start_time = time.time()\n",
    "    global rank, division, nextPage\n",
    "    bigdf = pd.DataFrame()\n",
    "    for rank in ['CHALLENGER','GRANDMASTER','MASTER']:\n",
    "        tempdf = pd.read_json(getUrl(region,rank,division,APIKey))        \n",
    "        tempdf = pd.json_normalize(tempdf['entries'])\n",
    "        tempdf['tier'] = rank\n",
    "        bigdf = bigdf.append(tempdf, ignore_index=True)\n",
    "    time.sleep(120)\n",
    "    for rank in ['DIAMOND','PLATINUM','GOLD','SILVER','BRONZE','IRON']:\n",
    "        for division in ['I','II','III','IV']:\n",
    "            time.sleep(60)\n",
    "            nextPage = 2\n",
    "            tempdf2 = pd.read_json(getUrl(region, rank, division, APIKey))\n",
    "            nextInfo = pd.read_json(getNextUrl(region,rank,division,nextPage,APIKey))\n",
    "            tempNextInfo = nextInfo\n",
    "            while not (tempNextInfo.empty): #Checks if the next page of data is empty on the API\n",
    "                tempdf2 = tempdf2.append(tempNextInfo, ignore_index = True) \n",
    "                nextPage = nextPage + 1\n",
    "                tempNextInfo = pd.read_json(getNextUrl(region,rank,division,nextPage,APIKey))\n",
    "                time.sleep(1)\n",
    "            bigdf = bigdf.append(tempdf2, ignore_index=True)\n",
    "    \n",
    "    bigdf['tier'] = pd.Categorical(bigdf['tier'], ordered=True, categories=['IRON','BRONZE','SILVER','GOLD','PLATINUM','DIAMOND','MASTER','GRANDMASTER','CHALLENGER'])\n",
    "    bigdf['rank'] = pd.Categorical(bigdf['rank'], ordered=True, categories=['IV','III','II','I'])\n",
    "    bigdf.sort_values(['tier','rank','leaguePoints'], ascending=False, inplace=True)\n",
    "    bigdf.drop_duplicates('summonerName',keep='first',inplace=True)\n",
    "    bigdf = bigdf.reset_index(drop=True)\n",
    "    bigdf.index = bigdf.index + 1\n",
    "    bigdf['Winrate'] = bigdf.apply(lambda row: '{0:.0%}'.format((row.wins / (row.wins + row.losses))), axis=1)\n",
    "    print(bigdf[['summonerName','tier','rank','leaguePoints','Winrate']])\n",
    "    bigdf.to_csv(f'{region}PlayerBase.csv') \n",
    "    print(\"This program took\" ,time.time() - start_time, \"seconds to execute.\")\n",
    "    \n",
    "\n",
    "def getListSpecificRank():\n",
    "    getPlayerInput()\n",
    "    global nextPage\n",
    "    nextPage = 2\n",
    "    df = pd.DataFrame()\n",
    "    print(\"Here is a current list of players in \" + rank + \" \" + division)\n",
    "    if (rank == 'IRON' or rank == 'BRONZE' or rank == 'SILVER' or rank == 'GOLD' or rank == 'PLATINUM' or rank == 'DIAMOND'):\n",
    "        df = pd.read_json(getUrl(region, rank, division, APIKey))\n",
    "        nextInfo = pd.read_json(getNextUrl(region,rank,division,nextPage,APIKey))\n",
    "        tempNextInfo = nextInfo\n",
    "        while not (tempNextInfo.empty): #Checks if the next page of data is empty on the API\n",
    "            df = df.append(tempNextInfo, ignore_index = True) \n",
    "            nextPage = nextPage + 1\n",
    "            tempNextInfo = pd.read_json(getNextUrl(region,rank,division,nextPage,APIKey))\n",
    "            time.sleep(.93) # .90 was too fast under Riot's request limitations while .95 isn't, so I settled with .93\n",
    "    elif (rank == 'CHALLENGER' or rank == 'GRANDMASTER' or rank == 'MASTER'):    \n",
    "        df = pd.read_json(getUrl(region,rank,division,APIKey))        \n",
    "        df = pd.json_normalize(df['entries'])\n",
    "        df['tier'] = rank\n",
    "    df.sort_values(by=['leaguePoints'], ascending=False, inplace=True)\n",
    "    df = df.reset_index(drop=True)\n",
    "    df.index = df.index + displace\n",
    "    df['Winrate'] = df.apply(lambda row: '{0:.0%}'.format((row.wins / (row.wins + row.losses))), axis=1)\n",
    "    print(df[['summonerName','tier','rank','leaguePoints', 'Winrate']])\n",
    "    nameInput = ''\n",
    "    while nameInput != '!q':\n",
    "        nameInput = (str)(input('Want to search for someone? Enter the name here (!q to quit or !csv to save): '))\n",
    "        if nameInput == '!q':\n",
    "            sys.exit()\n",
    "        if nameInput == '!csv':\n",
    "            df.to_csv(f'{region}{rank}{division}.csv')\n",
    "        print(df.loc[df['summonerName'].str.lower()==nameInput.lower()][['summonerName','leaguePoints','Winrate']])\n",
    "\n",
    "def main():\n",
    "    getUserOption()\n",
    "    if option == '1':\n",
    "        df = pd.read_csv(\"NA1PLAYERBASE.csv\", low_memory=False)\n",
    "        getPlayerRankedStats(df)\n",
    "    elif option == '2':\n",
    "        getListSpecificRank()\n",
    "    elif option == '3':\n",
    "        global region\n",
    "        region = (str)(input('region: '))\n",
    "        getPlayerBase(region)\n",
    "    elif option == '0':\n",
    "        sys.exit()\n",
    "    else:\n",
    "        print(\"Invalid option: ending program\")\n",
    "        sys.exit()\n",
    "    \n",
    "    \n",
    "if __name__ == \"__main__\":\n",
    "    main()"
   ]
  },
  {
   "cell_type": "code",
   "execution_count": 2,
   "metadata": {},
   "outputs": [
    {
     "data": {
      "text/plain": [
       "<matplotlib.axes._subplots.AxesSubplot at 0x7fb1200f17b8>"
      ]
     },
     "execution_count": 2,
     "metadata": {},
     "output_type": "execute_result"
    },
    {
     "data": {
      "image/png": "[encoded data removed]",
      "text/plain": [
       "<Figure size 432x288 with 1 Axes>"
      ]
     },
     "metadata": {
      "needs_background": "light"
     },
     "output_type": "display_data"
    }
   ],
   "source": [
    "import matplotlib.pyplot as plt\n",
    "%matplotlib inline\n",
    "\n",
    "df = pd.read_csv(\"data.csv\")\n",
    "#df['Winrate'] = df.apply(lambda row: '{0:.0%}'.format((row.wins / (row.wins + row.losses))), axis=1)\n",
    "df['gamesPlayed'] = df.apply(lambda row: row.wins + row.losses, axis=1)\n",
    "df['Winrate'] = df['Winrate'].str.replace('%','')\n",
    "df['Winrate'] = df.Winrate.astype(float)\n",
    "df.boxplot(column=['Winrate'], return_type='axes')"
   ]
  },
  {
   "cell_type": "code",
   "execution_count": 3,
   "metadata": {},
   "outputs": [
    {
     "name": "stdout",
     "output_type": "stream",
     "text": [
      "count    1244.000000\n",
      "mean       54.979904\n",
      "std         4.861269\n",
      "min        49.000000\n",
      "25%        52.000000\n",
      "50%        53.000000\n",
      "75%        56.000000\n",
      "max        78.000000\n",
      "Name: Winrate, dtype: float64\n"
     ]
    }
   ],
   "source": [
    "print(df['Winrate'].describe())"
   ]
  },
  {
   "cell_type": "markdown",
   "metadata": {},
   "source": [
    "**The lowest win rate in the Challenger ladder is approximately 49%, while the highest is about 78%. The average winrate is 55%. There are several outliers are most likely professional players who play on eSports organizations, and are therefore more skillful than the average Challenger player.**"
   ]
  },
  {
   "cell_type": "code",
   "execution_count": 4,
   "metadata": {},
   "outputs": [
    {
     "data": {
      "text/plain": [
       "<matplotlib.axes._subplots.AxesSubplot at 0x7fb11fb5a9e8>"
      ]
     },
     "execution_count": 4,
     "metadata": {},
     "output_type": "execute_result"
    },
    {
     "data": {
      "image/png": "[encoded data removed]",
      "text/plain": [
       "<Figure size 432x288 with 1 Axes>"
      ]
     },
     "metadata": {
      "needs_background": "light"
     },
     "output_type": "display_data"
    }
   ],
   "source": [
    "df2 = df.groupby(\"tier\")[\"gamesPlayed\"].mean()\n",
    "df2.plot.bar()"
   ]
  },
  {
   "cell_type": "code",
   "execution_count": 6,
   "metadata": {},
   "outputs": [
    {
     "data": {
      "text/plain": [
       "tier\n",
       "CHALLENGER     499.820000\n",
       "GRANDMASTER    489.770000\n",
       "MASTER         424.385246\n",
       "Name: gamesPlayed, dtype: float64"
      ]
     },
     "execution_count": 6,
     "metadata": {},
     "output_type": "execute_result"
    }
   ],
   "source": [
    "df2"
   ]
  },
  {
   "cell_type": "markdown",
   "metadata": {},
   "source": [
    "**From this bar graph, we can see that the higher ranked a player is, the more games he/she has played during the current season. For Challenger players, the average games played is about 500 games. For Grandmaster players, that number is 490 and for Master, it is 424. From this, we can draw the conclusion that in order to achieve a high rank, a player must invest lots of hours to practice and get better. The more games you play, the better you will become.**"
   ]
  },
  {
   "cell_type": "code",
   "execution_count": 5,
   "metadata": {},
   "outputs": [
    {
     "data": {
      "text/plain": [
       "<matplotlib.axes._subplots.AxesSubplot at 0x7fb11f668eb8>"
      ]
     },
     "execution_count": 5,
     "metadata": {},
     "output_type": "execute_result"
    },
    {
     "data": {
      "image/png": "[encoded data removed]",
      "text/plain": [
       "<Figure size 432x288 with 1 Axes>"
      ]
     },
     "metadata": {
      "needs_background": "light"
     },
     "output_type": "display_data"
    }
   ],
   "source": [
    "df3 = df.groupby(\"tier\")[\"gamesPlayed\"].max()\n",
    "df3.plot.bar()"
   ]
  },
  {
   "cell_type": "code",
   "execution_count": 7,
   "metadata": {},
   "outputs": [
    {
     "data": {
      "text/plain": [
       "tier\n",
       "CHALLENGER     1513\n",
       "GRANDMASTER    2345\n",
       "MASTER         1593\n",
       "Name: gamesPlayed, dtype: int64"
      ]
     },
     "execution_count": 7,
     "metadata": {},
     "output_type": "execute_result"
    }
   ],
   "source": [
    "df3"
   ]
  },
  {
   "cell_type": "markdown",
   "metadata": {},
   "source": [
    "**This bar graph shows the highest number of games played by a single player in the current season for each ranked tier.**"
   ]
  }
 ],
 "metadata": {
  "kernelspec": {
   "display_name": "Python 3",
   "language": "python",
   "name": "python3"
  },
  "language_info": {
   "codemirror_mode": {
    "name": "ipython",
    "version": 3
   },
   "file_extension": ".py",
   "mimetype": "text/x-python",
   "name": "python",
   "nbconvert_exporter": "python",
   "pygments_lexer": "ipython3",
   "version": "3.6.8"
  }
 },
 "nbformat": 4,
 "nbformat_minor": 4
}
